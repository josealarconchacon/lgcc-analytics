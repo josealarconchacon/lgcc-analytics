{
 "cells": [
  {
   "cell_type": "code",
   "execution_count": null,
   "id": "3a6a9efe-1333-4fa5-9b75-f85d83db0d0d",
   "metadata": {},
   "outputs": [],
   "source": []
  }
 ],
 "metadata": {
  "kernelspec": {
   "display_name": "",
   "name": ""
  },
  "language_info": {
   "name": ""
  }
 },
 "nbformat": 4,
 "nbformat_minor": 5
}
