{
 "cells": [
  {
   "cell_type": "code",
   "execution_count": 2,
   "id": "3a6a9efe-1333-4fa5-9b75-f85d83db0d0d",
   "metadata": {},
   "outputs": [
    {
     "name": "stdin",
     "output_type": "stream",
     "text": [
      "Player 1: rock, paper, or scissors?  rock\n",
      "Player 2: rock, paper, or scissors?  rock\n"
     ]
    },
    {
     "name": "stdout",
     "output_type": "stream",
     "text": [
      "It's a tie!\n"
     ]
    },
    {
     "name": "stdin",
     "output_type": "stream",
     "text": [
      "Do you want to play again? (yes/no):  m\n"
     ]
    },
    {
     "name": "stdout",
     "output_type": "stream",
     "text": [
      "Thanks for playing\n"
     ]
    }
   ],
   "source": [
    "# get user input\n",
    "def user_input():\n",
    "    choices = [\"rock\", \"paper\", \"scissors\"]\n",
    "    # Validate Player 1\n",
    "    while True:\n",
    "        player1 = input(\"Player 1: rock, paper, or scissors? \").lower()\n",
    "        if player1 in choices:\n",
    "            break\n",
    "        print(\"Invalid input: Please enter rock, paper, or scissors.\")\n",
    "        \n",
    "    # Validate Player 2\n",
    "    while True:\n",
    "        player2 = input(\"Player 2: rock, paper, or scissors? \").lower()\n",
    "        if player2 in choices:\n",
    "            break\n",
    "        print(\"Invalid input: Please enter rock, paper, or scissors.\")\n",
    "        \n",
    "    return player1, player2\n",
    "\n",
    "def game():\n",
    "    player1, player2 = user_input()\n",
    "    if player1 == player2:\n",
    "        print(\"It's a tie!\")\n",
    "    elif (player1 == \"rock\" and player2 == \"scissors\") or \\\n",
    "         (player1 == \"scissors\" and player2 == \"paper\") or \\\n",
    "         (player1 == \"paper\" and player2 == \"rock\"):\n",
    "        print(\"Player 1 wins. Congratulations\")\n",
    "    else:\n",
    "        print(\"Player 2 wins. Congratulations\")\n",
    "\n",
    "while True:\n",
    "    game()\n",
    "    play_again = input(\"Do you want to play again? (yes/no): \").lower()\n",
    "    if play_again not in (\"yes\", \"y\"):\n",
    "        print(\"Thanks for playing\")\n",
    "        break\n"
   ]
  },
  {
   "cell_type": "code",
   "execution_count": null,
   "id": "b7f60161-0380-4de9-b8a5-839a6c13e3fd",
   "metadata": {},
   "outputs": [],
   "source": []
  }
 ],
 "metadata": {
  "kernelspec": {
   "display_name": "Python [conda env:base] *",
   "language": "python",
   "name": "conda-base-py"
  },
  "language_info": {
   "codemirror_mode": {
    "name": "ipython",
    "version": 3
   },
   "file_extension": ".py",
   "mimetype": "text/x-python",
   "name": "python",
   "nbconvert_exporter": "python",
   "pygments_lexer": "ipython3",
   "version": "3.13.5"
  }
 },
 "nbformat": 4,
 "nbformat_minor": 5
}
