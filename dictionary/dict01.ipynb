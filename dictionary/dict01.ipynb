{
 "cells": [
  {
   "cell_type": "code",
   "execution_count": 1,
   "id": "8defd1f2-9d5b-481d-9f46-01d9f6ba50f0",
   "metadata": {},
   "outputs": [
    {
     "name": "stdout",
     "output_type": "stream",
     "text": [
      "{'first_name': 'Tom', 'last_name': 'Do not know', 'age': 100, 'city': 'New York', 'email': 'tom@gmail.com'}\n"
     ]
    }
   ],
   "source": [
    "# Print each piece of information out\n",
    "person_dict = {\n",
    "    \"first_name\": \"Tom\",\n",
    "    \"last_name\": \"Do not know\",\n",
    "    \"age\": 100,\n",
    "    \"city\": \"New York\",\n",
    "    \"email\": \"tom@gmail.com\"\n",
    "}\n",
    "\n",
    "# Print the whole dictionary\n",
    "print(person_dict)"
   ]
  },
  {
   "cell_type": "code",
   "execution_count": 2,
   "id": "174a5053-2eee-4134-a40b-282d665760b7",
   "metadata": {},
   "outputs": [
    {
     "name": "stdout",
     "output_type": "stream",
     "text": [
      "Jose is 125 years old.\n",
      "Lin Htet Aung is 93 years old.\n",
      "Keanu is 88 years old.\n",
      "Diana is 150 years old.\n",
      "Mohammad is 122 years old.\n"
     ]
    }
   ],
   "source": [
    "# Print eachpersons name and age\n",
    "people = {\n",
    "    \"Jose\": 125,\n",
    "    \"Lin Htet Aung\": 93,\n",
    "    \"Keanu\": 88,\n",
    "    \"Diana\": 150,\n",
    "    \"Mohammad\": 122\n",
    "}\n",
    "\n",
    "for name, age in people.items():\n",
    "    print(f\"{name} is {age} years old.\")"
   ]
  },
  {
   "cell_type": "code",
   "execution_count": 3,
   "id": "262659c4-9b22-4433-a912-df550755daea",
   "metadata": {},
   "outputs": [
    {
     "name": "stdout",
     "output_type": "stream",
     "text": [
      "Variable: A container for storing data\n",
      "Loop: A sequence of instructions that repeats until a certain condition is met.\n",
      "Dictionary: A collection of key-value pairs\n"
     ]
    }
   ],
   "source": [
    "vocab = {\n",
    "    \"variable\": \"A container for storing data\",\n",
    "    \"loop\": \"A sequence of instructions that repeats until a certain condition is met.\",\n",
    "    \"dictionary\": \"A collection of key-value pairs\"\n",
    "}\n",
    "\n",
    "for word, definition in vocab.items():\n",
    "    print(f\"{word.title()}: {definition}\")"
   ]
  },
  {
   "cell_type": "code",
   "execution_count": null,
   "id": "32f4de3f-7e31-446c-a0ce-061889b06307",
   "metadata": {},
   "outputs": [],
   "source": []
  }
 ],
 "metadata": {
  "kernelspec": {
   "display_name": "Python [conda env:base] *",
   "language": "python",
   "name": "conda-base-py"
  },
  "language_info": {
   "codemirror_mode": {
    "name": "ipython",
    "version": 3
   },
   "file_extension": ".py",
   "mimetype": "text/x-python",
   "name": "python",
   "nbconvert_exporter": "python",
   "pygments_lexer": "ipython3",
   "version": "3.13.5"
  }
 },
 "nbformat": 4,
 "nbformat_minor": 5
}
