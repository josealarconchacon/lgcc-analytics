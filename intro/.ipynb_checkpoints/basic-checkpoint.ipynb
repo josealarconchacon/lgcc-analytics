{
 "cells": [
  {
   "cell_type": "code",
   "execution_count": 1,
   "id": "850bb937-88bb-4f7e-857d-2f95d2f80ae5",
   "metadata": {},
   "outputs": [
    {
     "name": "stdout",
     "output_type": "stream",
     "text": [
      "Hello Jose\n",
      "jose\n",
      "JOSE\n"
     ]
    }
   ],
   "source": [
    "# store a person name in a variable and print it\n",
    "name = 'Jose'\n",
    "print(f'Hello {name}')\n",
    "\n",
    "# lower and upper case\n",
    "lower_name = name.lower()\n",
    "upper_name = name.upper()\n",
    "print(lower_name)\n",
    "print(upper_name)"
   ]
  },
  {
   "cell_type": "code",
   "execution_count": 3,
   "id": "250e80bf-9509-4ea2-86b6-d3e74678e4bd",
   "metadata": {},
   "outputs": [
    {
     "name": "stdout",
     "output_type": "stream",
     "text": [
      "8\n",
      "8\n",
      "8\n",
      "8\n",
      "Hey friend, my favorite number is 7\n"
     ]
    }
   ],
   "source": [
    "# arithmetic operations that result in 8\n",
    "print(5 + 3)        \n",
    "print(16 - 8)      \n",
    "print(4 * 2)       \n",
    "print(64 // 8)      \n",
    "\n",
    "# Store your favorite number and create a message\n",
    "favorite_num = 7\n",
    "message = f\"Hey friend, my favorite number is {favorite_num}\"\n",
    "print(message)"
   ]
  },
  {
   "cell_type": "code",
   "execution_count": 4,
   "id": "deb803ff-4631-442d-90a4-3b3c8dec3eee",
   "metadata": {},
   "outputs": [
    {
     "name": "stdout",
     "output_type": "stream",
     "text": [
      "Email: josedoe@gmail.com\n",
      "jose\n",
      "JOSE\n",
      "Do you want to hang out on the 15th of this month?\n"
     ]
    }
   ],
   "source": [
    "greeting = \"hello there!\"\n",
    "\n",
    "# set a first name, last name, and email extension\n",
    "first_name = \"jose\"\n",
    "last_name = \"doe\"\n",
    "email_extension = \"@gmail.com\"\n",
    "email_address = first_name + last_name + email_extension\n",
    "print(f'Email: {email_address}')\n",
    "\n",
    "# set first and last name and print it in lower and uppercase\n",
    "name = \"Jose\"\n",
    "print(name.lower())\n",
    "print(name.upper())\n",
    "\n",
    "# Ask a friend to hang out on the 15th, converting number to string\n",
    "hangout_day = 15\n",
    "hangout_message = \"Do you want to hang out on the \" + str(hangout_day) + \"th of this month?\"\n",
    "print(hangout_message)"
   ]
  },
  {
   "cell_type": "code",
   "execution_count": null,
   "id": "9e75a24d-63ad-4ac2-b8dd-dfce7e70dde6",
   "metadata": {},
   "outputs": [],
   "source": []
  }
 ],
 "metadata": {
  "kernelspec": {
   "display_name": "Python [conda env:base] *",
   "language": "python",
   "name": "conda-base-py"
  },
  "language_info": {
   "codemirror_mode": {
    "name": "ipython",
    "version": 3
   },
   "file_extension": ".py",
   "mimetype": "text/x-python",
   "name": "python",
   "nbconvert_exporter": "python",
   "pygments_lexer": "ipython3",
   "version": "3.13.5"
  }
 },
 "nbformat": 4,
 "nbformat_minor": 5
}
