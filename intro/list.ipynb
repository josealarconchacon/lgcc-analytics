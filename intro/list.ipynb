{
 "cells": [
  {
   "cell_type": "code",
   "execution_count": 11,
   "id": "dd864155-1142-4620-9f51-f71a23e05db8",
   "metadata": {},
   "outputs": [
    {
     "name": "stdout",
     "output_type": "stream",
     "text": [
      "Best Bro: TOM — always has my back\n",
      "----------------------------------------\n",
      "Loyal Bro: REBORT — the life of every party\n",
      "----------------------------------------\n",
      "Adventurous Bro: REINIER — what up bro\n",
      "----------------------------------------\n"
     ]
    }
   ],
   "source": [
    "friends = ['Tom', 'Rebort', 'Reinier']\n",
    "titles = ['Best Bro', 'Loyal Bro', 'Adventurous Bro']\n",
    "\n",
    "messages = [\n",
    "    \"always has my back\",\n",
    "    \"the life of every party\",\n",
    "    \"what up bro\"\n",
    "]\n",
    "# Loop over the friends list\n",
    "for i, friend in enumerate(friends):\n",
    "    # get title and message\n",
    "    title = titles[i % len(titles)]\n",
    "    message = messages[i % len(messages)]\n",
    "    print(f\"{title}: {friend.upper()} — {message}\")\n",
    "    # separate each output with a line\n",
    "    print(\"-\" * 40)\n",
    "\n"
   ]
  },
  {
   "cell_type": "code",
   "execution_count": null,
   "id": "ba413301-40f7-4856-b599-a8790f4bf514",
   "metadata": {},
   "outputs": [],
   "source": []
  }
 ],
 "metadata": {
  "kernelspec": {
   "display_name": "Python [conda env:base] *",
   "language": "python",
   "name": "conda-base-py"
  },
  "language_info": {
   "codemirror_mode": {
    "name": "ipython",
    "version": 3
   },
   "file_extension": ".py",
   "mimetype": "text/x-python",
   "name": "python",
   "nbconvert_exporter": "python",
   "pygments_lexer": "ipython3",
   "version": "3.13.5"
  }
 },
 "nbformat": 4,
 "nbformat_minor": 5
}
