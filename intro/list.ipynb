{
 "cells": [
  {
   "cell_type": "code",
   "execution_count": 11,
   "id": "dd864155-1142-4620-9f51-f71a23e05db8",
   "metadata": {},
   "outputs": [
    {
     "name": "stdout",
     "output_type": "stream",
     "text": [
      "Best Bro: TOM — always has my back\n",
      "----------------------------------------\n",
      "Loyal Bro: REBORT — the life of every party\n",
      "----------------------------------------\n",
      "Adventurous Bro: REINIER — what up bro\n",
      "----------------------------------------\n"
     ]
    }
   ],
   "source": [
    "friends = ['Tom', 'Rebort', 'Reinier']\n",
    "titles = ['Best Bro', 'Loyal Bro', 'Adventurous Bro']\n",
    "\n",
    "messages = [\n",
    "    \"always has my back\",\n",
    "    \"the life of every party\",\n",
    "    \"what up bro\"\n",
    "]\n",
    "# Loop over the friends list\n",
    "for i, friend in enumerate(friends):\n",
    "    # get title and message\n",
    "    title = titles[i % len(titles)]\n",
    "    message = messages[i % len(messages)]\n",
    "    print(f\"{title}: {friend.upper()} — {message}\")\n",
    "    # separate each output with a line\n",
    "    print(\"-\" * 40)\n",
    "\n"
   ]
  },
  {
   "cell_type": "code",
   "execution_count": 16,
   "id": "ba413301-40f7-4856-b599-a8790f4bf514",
   "metadata": {},
   "outputs": [
    {
     "name": "stdout",
     "output_type": "stream",
     "text": [
      "Email: josedoe@gmail.com\n",
      "jose\n",
      "JOSE\n",
      "Do you want to hang out on the 15th of this month?\n"
     ]
    }
   ],
   "source": [
    "greeting = \"hello there!\"\n",
    "\n",
    "# set a first name, last name, and email extension\n",
    "first_name = \"jose\"\n",
    "last_name = \"doe\"\n",
    "email_extension = \"@gmail.com\"\n",
    "email_address = first_name + last_name + email_extension\n",
    "print(f'Email: {email_address}')\n",
    "\n",
    "# set first and last name and print it in lower and uppercase\n",
    "name = \"Jose\"\n",
    "print(name.lower())\n",
    "print(name.upper())\n",
    "\n",
    "# Ask a friend to hang out on the 15th, converting number to string\n",
    "hangout_day = 15\n",
    "hangout_message = \"Do you want to hang out on the \" + str(hangout_day) + \"th of this month?\"\n",
    "print(hangout_message)"
   ]
  },
  {
   "cell_type": "code",
   "execution_count": null,
   "id": "e04d9626-a9a3-4514-8cff-f5cf51d9708e",
   "metadata": {},
   "outputs": [],
   "source": []
  },
  {
   "cell_type": "code",
   "execution_count": null,
   "id": "2f829636-fcac-4a3f-bf81-b61b1ff27d44",
   "metadata": {},
   "outputs": [],
   "source": []
  }
 ],
 "metadata": {
  "kernelspec": {
   "display_name": "Python [conda env:base] *",
   "language": "python",
   "name": "conda-base-py"
  },
  "language_info": {
   "codemirror_mode": {
    "name": "ipython",
    "version": 3
   },
   "file_extension": ".py",
   "mimetype": "text/x-python",
   "name": "python",
   "nbconvert_exporter": "python",
   "pygments_lexer": "ipython3",
   "version": "3.13.5"
  }
 },
 "nbformat": 4,
 "nbformat_minor": 5
}
