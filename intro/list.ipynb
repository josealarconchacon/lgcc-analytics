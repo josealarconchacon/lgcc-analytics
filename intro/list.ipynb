{
 "cells": [
  {
   "cell_type": "code",
   "execution_count": 40,
   "id": "dd864155-1142-4620-9f51-f71a23e05db8",
   "metadata": {},
   "outputs": [
    {
     "name": "stdout",
     "output_type": "stream",
     "text": [
      "Best Bro: TOM — always has my back\n",
      "----------------------------------------\n",
      "Loyal Bro: REBORT — the life of every party\n",
      "----------------------------------------\n",
      "Adventurous Bro: REINIER — what up bro\n",
      "----------------------------------------\n"
     ]
    }
   ],
   "source": [
    "friends = ['Tom', 'Rebort', 'Reinier']\n",
    "titles = ['Best Bro', 'Loyal Bro', 'Adventurous Bro']\n",
    "\n",
    "messages = [\n",
    "    \"always has my back\",\n",
    "    \"the life of every party\",\n",
    "    \"what up bro\"\n",
    "]\n",
    "# Loop over the friends list\n",
    "for i, friend in enumerate(friends):\n",
    "    # get title and message\n",
    "    title = titles[i % len(titles)]\n",
    "    message = messages[i % len(messages)]\n",
    "    print(f\"{title}: {friend.upper()} — {message}\")\n",
    "    # separate each output with a line\n",
    "    print(\"-\" * 40)\n",
    "\n"
   ]
  },
  {
   "cell_type": "code",
   "execution_count": 39,
   "id": "ba413301-40f7-4856-b599-a8790f4bf514",
   "metadata": {},
   "outputs": [
    {
     "name": "stdout",
     "output_type": "stream",
     "text": [
      "Favorite for now \n",
      " ['pizza', 'tacos', 'sushi', 'pasta', 'salad']\n",
      "\n",
      "Add some more food to my list \n",
      " ['pizza', 'tacos', 'sushi', 'pasta', 'salad', ['burrito', 'rice', 'empanadas']]\n",
      "\n",
      "Got tired of burrito \n",
      " ['pizza', 'tacos', 'sushi', 'pasta', 'salad', ['rice', 'empanadas']]\n",
      "\n",
      "Added fish to my list \n",
      " ['fish', 'pizza', 'tacos', 'sushi', 'pasta', 'salad', ['rice', 'empanadas']]\n",
      "\n"
     ]
    }
   ],
   "source": [
    "# list of foods\n",
    "foods = [\"pizza\", \"tacos\", \"sushi\", \"pasta\", \"salad\"]\n",
    "# print list\n",
    "print(f'Favorite for now \\n {foods}\\n')\n",
    "\n",
    "# add to the list\n",
    "foods.append([\"burrito\", \"rice\", \"empanadas\"])\n",
    "print(f'Add some more food to my list \\n {foods}\\n')\n",
    "\n",
    "# remove from the list\n",
    "foods[5].remove('burrito')\n",
    "print(f'Got tired of burrito \\n {foods}\\n')\n",
    "\n",
    "# add to the list\n",
    "foods.insert(0,\"fish\")\n",
    "print(f'Added fish to my list \\n {foods}\\n')\n"
   ]
  },
  {
   "cell_type": "code",
   "execution_count": 43,
   "id": "869f328e-a650-40b2-a159-edc9781e9bc2",
   "metadata": {},
   "outputs": [
    {
     "name": "stdout",
     "output_type": "stream",
     "text": [
      "['Paris', 'Tokyo', 'Italy']\n",
      "None\n"
     ]
    }
   ],
   "source": [
    "places = [\"Paris\", \"Tokyo\", \"Italy\"]\n",
    "print(places)\n",
    "\n",
    "sort_places = places.sort()\n",
    "print(sort_places)\n"
   ]
  },
  {
   "cell_type": "code",
   "execution_count": 52,
   "id": "17046d3b-2d2e-49ff-b483-b4d0bfa681a7",
   "metadata": {},
   "outputs": [
    {
     "name": "stdout",
     "output_type": "stream",
     "text": [
      "['Tokyo', 'Barcelona', 'Amsterdam', 'Cairo']\n",
      "\n",
      "Sorted list (ascending): ['Amsterdam', 'Barcelona', 'Cairo', 'Tokyo']\n",
      "\n",
      "Sorted list (descending): ['Tokyo', 'Cairo', 'Barcelona', 'Amsterdam']\n"
     ]
    }
   ],
   "source": [
    "places = [\"Tokyo\", \"Barcelona\", \"Amsterdam\", \"Cairo\"]\n",
    "\n",
    "# print list\n",
    "print(places)\n",
    "\n",
    "# sort list and print it\n",
    "places.sort()\n",
    "print(f\"\\nSorted list (ascending): {places}\")\n",
    "\n",
    "\n",
    "# Sort the list using sort(reverse=True) and print it\n",
    "places.sort(reverse=True)\n",
    "print(f\"\\nSorted list (descending): {places}\")\n"
   ]
  },
  {
   "cell_type": "code",
   "execution_count": null,
   "id": "2e2be301-8650-4937-8280-279454c9aa80",
   "metadata": {},
   "outputs": [],
   "source": []
  }
 ],
 "metadata": {
  "kernelspec": {
   "display_name": "Python [conda env:base] *",
   "language": "python",
   "name": "conda-base-py"
  },
  "language_info": {
   "codemirror_mode": {
    "name": "ipython",
    "version": 3
   },
   "file_extension": ".py",
   "mimetype": "text/x-python",
   "name": "python",
   "nbconvert_exporter": "python",
   "pygments_lexer": "ipython3",
   "version": "3.13.5"
  }
 },
 "nbformat": 4,
 "nbformat_minor": 5
}
