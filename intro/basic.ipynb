{
 "cells": [
  {
   "cell_type": "code",
   "execution_count": 1,
   "id": "850bb937-88bb-4f7e-857d-2f95d2f80ae5",
   "metadata": {},
   "outputs": [
    {
     "name": "stdout",
     "output_type": "stream",
     "text": [
      "Hello Jose\n",
      "jose\n",
      "JOSE\n"
     ]
    }
   ],
   "source": [
    "# store a person name in a variable and print it\n",
    "name = 'Jose'\n",
    "print(f'Hello {name}')\n",
    "\n",
    "# lower and upper case\n",
    "lower_name = name.lower()\n",
    "upper_name = name.upper()\n",
    "print(lower_name)\n",
    "print(upper_name)"
   ]
  },
  {
   "cell_type": "code",
   "execution_count": 3,
   "id": "250e80bf-9509-4ea2-86b6-d3e74678e4bd",
   "metadata": {},
   "outputs": [
    {
     "name": "stdout",
     "output_type": "stream",
     "text": [
      "8\n",
      "8\n",
      "8\n",
      "8\n",
      "Hey friend, my favorite number is 7\n"
     ]
    }
   ],
   "source": [
    "# arithmetic operations that result in 8\n",
    "print(5 + 3)        \n",
    "print(16 - 8)      \n",
    "print(4 * 2)       \n",
    "print(64 // 8)      \n",
    "\n",
    "# Store your favorite number and create a message\n",
    "favorite_num = 7\n",
    "message = f\"Hey friend, my favorite number is {favorite_num}\"\n",
    "print(message)"
   ]
  },
  {
   "cell_type": "code",
   "execution_count": null,
   "id": "deb803ff-4631-442d-90a4-3b3c8dec3eee",
   "metadata": {},
   "outputs": [],
   "source": []
  }
 ],
 "metadata": {
  "kernelspec": {
   "display_name": "Python [conda env:base] *",
   "language": "python",
   "name": "conda-base-py"
  },
  "language_info": {
   "codemirror_mode": {
    "name": "ipython",
    "version": 3
   },
   "file_extension": ".py",
   "mimetype": "text/x-python",
   "name": "python",
   "nbconvert_exporter": "python",
   "pygments_lexer": "ipython3",
   "version": "3.13.5"
  }
 },
 "nbformat": 4,
 "nbformat_minor": 5
}
