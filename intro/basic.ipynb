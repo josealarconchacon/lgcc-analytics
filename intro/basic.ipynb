{
 "cells": [
  {
   "cell_type": "code",
   "execution_count": 1,
   "id": "850bb937-88bb-4f7e-857d-2f95d2f80ae5",
   "metadata": {},
   "outputs": [
    {
     "name": "stdout",
     "output_type": "stream",
     "text": [
      "Hello Jose\n",
      "jose\n",
      "JOSE\n"
     ]
    }
   ],
   "source": [
    "# store a person name in a variable and print it\n",
    "name = 'Jose'\n",
    "print(f'Hello {name}')\n",
    "\n",
    "# lower and upper case\n",
    "lower_name = name.lower()\n",
    "upper_name = name.upper()\n",
    "print(lower_name)\n",
    "print(upper_name)"
   ]
  },
  {
   "cell_type": "code",
   "execution_count": null,
   "id": "250e80bf-9509-4ea2-86b6-d3e74678e4bd",
   "metadata": {},
   "outputs": [],
   "source": []
  }
 ],
 "metadata": {
  "kernelspec": {
   "display_name": "Python [conda env:base] *",
   "language": "python",
   "name": "conda-base-py"
  },
  "language_info": {
   "codemirror_mode": {
    "name": "ipython",
    "version": 3
   },
   "file_extension": ".py",
   "mimetype": "text/x-python",
   "name": "python",
   "nbconvert_exporter": "python",
   "pygments_lexer": "ipython3",
   "version": "3.13.5"
  }
 },
 "nbformat": 4,
 "nbformat_minor": 5
}
