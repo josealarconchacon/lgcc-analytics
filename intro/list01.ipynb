{
 "cells": [
  {
   "cell_type": "code",
   "execution_count": 16,
   "id": "8d69f729-1152-4a0e-a2d4-4ce2cd0c0f21",
   "metadata": {},
   "outputs": [
    {
     "name": "stdout",
     "output_type": "stream",
     "text": [
      "Favorite tv shows\n",
      " ['Breaking Bad', 'The Office (US)', 'Game of Thrones', 'Stranger Things', 'The Crown']\n",
      "\n",
      "Sorted tv shows list\n",
      " ['Breaking Bad', 'Game of Thrones', 'Stranger Things', 'The Crown', 'The Office (US)']\n",
      "\n",
      "Original list\n",
      " ['Breaking Bad', 'The Office (US)', 'Game of Thrones', 'Stranger Things', 'The Crown']\n",
      "\n",
      "List in reverse order\n",
      " ['The Office (US)', 'The Crown', 'Stranger Things', 'Game of Thrones', 'Breaking Bad']\n",
      "\n",
      "I have 5 favorite tv shows\n"
     ]
    }
   ],
   "source": [
    "# list of 5 of your favorite tv shows.\n",
    "favorite_tv_shows = [\"Breaking Bad\", \n",
    "                     \"The Office (US)\", \n",
    "                     \"Game of Thrones\", \n",
    "                     \"Stranger Things\", \n",
    "                     \"The Crown\"]\n",
    "\n",
    "print(f\"Favorite tv shows\\n {favorite_tv_shows}\\n\")\n",
    "\n",
    "# sorted list in sorted_tv var\n",
    "sorted_tv = sorted(favorite_tv_shows)\n",
    "print(f\"Sorted tv shows list\\n {sorted_tv}\\n\")\n",
    "\n",
    "# print original list\n",
    "print(f\"Original list\\n {favorite_tv_shows}\\n\")\n",
    "\n",
    "# sorted list in reverse order\n",
    "reverse_order = sorted(favorite_tv_shows, reverse=True)\n",
    "print(f\"List in reverse order\\n {reverse_order}\\n\")\n",
    "\n",
    "# show the number of shows\n",
    "num_of_show = len(favorite_tv_shows)\n",
    "print(f\"I have {num_of_show} favorite tv shows\")\n",
    "\n"
   ]
  },
  {
   "cell_type": "code",
   "execution_count": null,
   "id": "da063794-3247-45da-9a5c-a2d937c4f8e2",
   "metadata": {},
   "outputs": [],
   "source": []
  }
 ],
 "metadata": {
  "kernelspec": {
   "display_name": "Python [conda env:base] *",
   "language": "python",
   "name": "conda-base-py"
  },
  "language_info": {
   "codemirror_mode": {
    "name": "ipython",
    "version": 3
   },
   "file_extension": ".py",
   "mimetype": "text/x-python",
   "name": "python",
   "nbconvert_exporter": "python",
   "pygments_lexer": "ipython3",
   "version": "3.13.5"
  }
 },
 "nbformat": 4,
 "nbformat_minor": 5
}
