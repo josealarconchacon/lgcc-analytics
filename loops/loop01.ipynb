{
 "cells": [
  {
   "cell_type": "code",
   "execution_count": 7,
   "id": "d412f230-1a0a-4de0-93cb-9118660e9cf1",
   "metadata": {},
   "outputs": [
    {
     "name": "stdout",
     "output_type": "stream",
     "text": [
      "The Shawshank Redemption\n",
      "Inception\n",
      "The Godfather\n",
      "Parasite\n",
      "The Dark Knight\n",
      "['The Shawshank Redemption', 'Inception', 'The Godfather', 'Parasite', 'The Dark Knight']\n"
     ]
    }
   ],
   "source": [
    "movies = [\n",
    "    \"the shawshank redemption\",\n",
    "    \"inception\",\n",
    "    \"the godfather\",\n",
    "    \"parasite\",\n",
    "    \"the dark knight\"\n",
    "]\n",
    "\n",
    "for i in range(len(movies)):\n",
    "    movies[i] = movies[i].title()\n",
    "\n",
    "for show in movies:\n",
    "    print(show)\n",
    "\n",
    "print(movies)"
   ]
  },
  {
   "cell_type": "code",
   "execution_count": null,
   "id": "73ade787-2c9b-482a-ba0e-f4013c81e703",
   "metadata": {},
   "outputs": [],
   "source": []
  }
 ],
 "metadata": {
  "kernelspec": {
   "display_name": "Python [conda env:base] *",
   "language": "python",
   "name": "conda-base-py"
  },
  "language_info": {
   "codemirror_mode": {
    "name": "ipython",
    "version": 3
   },
   "file_extension": ".py",
   "mimetype": "text/x-python",
   "name": "python",
   "nbconvert_exporter": "python",
   "pygments_lexer": "ipython3",
   "version": "3.13.5"
  }
 },
 "nbformat": 4,
 "nbformat_minor": 5
}
