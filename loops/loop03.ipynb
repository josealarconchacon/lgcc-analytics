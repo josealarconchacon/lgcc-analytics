{
 "cells": [
  {
   "cell_type": "code",
   "execution_count": null,
   "id": "9c43faf8-b2a6-41be-bc5e-4c1ded97f94d",
   "metadata": {},
   "outputs": [],
   "source": []
  }
 ],
 "metadata": {
  "kernelspec": {
   "display_name": "",
   "name": ""
  },
  "language_info": {
   "name": ""
  }
 },
 "nbformat": 4,
 "nbformat_minor": 5
}
