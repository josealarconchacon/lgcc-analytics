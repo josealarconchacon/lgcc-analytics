{
 "cells": [
  {
   "cell_type": "code",
   "execution_count": 1,
   "id": "9c43faf8-b2a6-41be-bc5e-4c1ded97f94d",
   "metadata": {},
   "outputs": [
    {
     "name": "stdout",
     "output_type": "stream",
     "text": [
      "milk is on the grocery list.\n",
      "chocolate is NOT on the grocery list.\n",
      "apples is on the grocery list.\n",
      "cereal is NOT on the grocery list.\n"
     ]
    }
   ],
   "source": [
    "grocery_list = [\"milk\", \"eggs\", \"bread\", \"apples\", \"chicken\", \"rice\"]\n",
    "cart = [\"milk\", \"chocolate\", \"apples\", \"cereal\"]\n",
    "\n",
    "# Check if items in cart are on the grocery list\n",
    "for item in cart:\n",
    "    if item in grocery_list:\n",
    "        print(f\"{item} is on the grocery list.\")\n",
    "    else:\n",
    "        print(f\"{item} is NOT on the grocery list.\")"
   ]
  },
  {
   "cell_type": "code",
   "execution_count": 2,
   "id": "28e8c21d-f60f-4660-9122-11bec2ae1fa8",
   "metadata": {},
   "outputs": [
    {
     "name": "stdout",
     "output_type": "stream",
     "text": [
      "Hello, Alice. Welcome to the application.\n",
      "Hello, Bob. Welcome to the application.\n",
      "Hello, Charlie. Welcome to the application.\n",
      "Welcome back, admin. You have full privilege\n",
      "Hello, Diana. Welcome to the application.\n"
     ]
    }
   ],
   "source": [
    "# list of usernames including an admin\n",
    "usernames = [\"alice\", \"bob\", \"charlie\", \"admin\", \"diana\"]\n",
    "# Loop and greet each user\n",
    "for user in usernames:\n",
    "    if user == \"admin\":\n",
    "        print(f\"Welcome back, {user}. You have full privilege\")\n",
    "    else:\n",
    "        print(f\"Hello, {user.title()}. Welcome to the application.\")"
   ]
  },
  {
   "cell_type": "code",
   "execution_count": null,
   "id": "420ed0cb-0af6-4eb5-83f6-eeb4d504c7e0",
   "metadata": {},
   "outputs": [],
   "source": []
  }
 ],
 "metadata": {
  "kernelspec": {
   "display_name": "Python [conda env:base] *",
   "language": "python",
   "name": "conda-base-py"
  },
  "language_info": {
   "codemirror_mode": {
    "name": "ipython",
    "version": 3
   },
   "file_extension": ".py",
   "mimetype": "text/x-python",
   "name": "python",
   "nbconvert_exporter": "python",
   "pygments_lexer": "ipython3",
   "version": "3.13.5"
  }
 },
 "nbformat": 4,
 "nbformat_minor": 5
}
