{
 "cells": [
  {
   "cell_type": "code",
   "execution_count": 11,
   "id": "63473055-a305-4b73-a84e-3b10ba95fa18",
   "metadata": {},
   "outputs": [
    {
     "name": "stdout",
     "output_type": "stream",
     "text": [
      "Pizza is the best comfort food\n",
      "Sushi reminds me of summer nights.\n",
      "Tacos always makes me happy on Tuesdays.\n",
      "Pasta is perfect with extra cheese\n",
      "Ice Cream is my go-to treat after a long day.\n"
     ]
    }
   ],
   "source": [
    "foods = [\"pizza\", \"sushi\", \"tacos\", \"pasta\", \"ice cream\"]\n",
    "messages = [\n",
    "    \"is the best comfort food\",\n",
    "    \"reminds me of summer nights.\",\n",
    "    \"always makes me happy on Tuesdays.\",\n",
    "    \"is perfect with extra cheese\",\n",
    "    \"is my go-to treat after a long day.\"\n",
    "]\n",
    "\n",
    "# loop through both lists at the same time\n",
    "for food, msg in zip(foods, messages):\n",
    "    print(f\"{food.title()} {msg}\")\n"
   ]
  },
  {
   "cell_type": "code",
   "execution_count": 23,
   "id": "892b7a6b-08b2-4b0e-b9f5-c0ac5a238db3",
   "metadata": {},
   "outputs": [],
   "source": [
    "# for i in range(1, 100001):\n",
    "#     # print(i)"
   ]
  },
  {
   "cell_type": "code",
   "execution_count": 17,
   "id": "a58d07ec-85f7-4adb-92e2-00f8bc899e27",
   "metadata": {
    "scrolled": true
   },
   "outputs": [
    {
     "name": "stdout",
     "output_type": "stream",
     "text": [
      "1\n",
      "3\n",
      "5\n",
      "7\n",
      "9\n",
      "11\n",
      "13\n",
      "15\n",
      "17\n",
      "19\n"
     ]
    }
   ],
   "source": [
    "odd_numbers = list(range(1, 21, 2))\n",
    "\n",
    "for number in odd_numbers:\n",
    "    print(number)\n"
   ]
  },
  {
   "cell_type": "code",
   "execution_count": 18,
   "id": "f5ef35b0-45c3-4b91-951a-d55fd01ac685",
   "metadata": {
    "scrolled": true
   },
   "outputs": [
    {
     "name": "stdout",
     "output_type": "stream",
     "text": [
      "2\n",
      "4\n",
      "6\n",
      "8\n",
      "10\n",
      "12\n",
      "14\n",
      "16\n",
      "18\n",
      "20\n"
     ]
    }
   ],
   "source": [
    "\n",
    "for number in range(2, 21, 2):\n",
    "    print(number)\n"
   ]
  },
  {
   "cell_type": "code",
   "execution_count": 21,
   "id": "5182a08a-7dea-456f-b5c1-ba96171fa729",
   "metadata": {
    "scrolled": true
   },
   "outputs": [
    {
     "name": "stdout",
     "output_type": "stream",
     "text": [
      "apple\n",
      "banana\n",
      "cherry\n",
      "date\n",
      "elderberry\n",
      "\n",
      "apple is a tasty fruit!\n",
      "banana is a tasty fruit!\n",
      "cherry is a tasty fruit!\n",
      "date is a tasty fruit!\n",
      "elderberry is a tasty fruit!\n",
      "\n",
      "2\n",
      "4\n",
      "6\n",
      "8\n",
      "10\n",
      "12\n",
      "14\n",
      "16\n",
      "18\n",
      "20\n",
      "\n",
      "Sorted list: ['apple', 'banana', 'cherry', 'date', 'elderberry']\n",
      "First three elements: ['apple', 'banana', 'cherry']\n",
      "Last elements: date\n",
      "Last elements: elderberry\n"
     ]
    }
   ],
   "source": [
    "# 1. Create a list with 5 data variables\n",
    "data = [\"apple\", \"banana\", \"cherry\", \"date\", \"elderberry\"]\n",
    "\n",
    "# 2. Print out those variables using a for loop\n",
    "for item in data:\n",
    "    print(item)\n",
    "\n",
    "print()  # just to separate output\n",
    "\n",
    "# 3. Modify the for loop to add a message\n",
    "for item in data:\n",
    "    print(item + \" is a tasty fruit!\")\n",
    "\n",
    "print()  # separate output\n",
    "\n",
    "# 4. Use a for loop to print even numbers from 1-20\n",
    "for number in range(2, 21, 2):\n",
    "    print(number)\n",
    "\n",
    "print()  # separate output\n",
    "\n",
    "# 5. Sort your list in alphabetical order\n",
    "data.sort()\n",
    "print(\"Sorted list:\", data)\n",
    "\n",
    "# 6. Print out the first three elements of your list\n",
    "print(\"First three elements:\", data[:3])\n",
    "\n",
    "# 7. Create a loop to print the last 2 elements of your list\n",
    "for item in data[-2:]:\n",
    "    print(\"Last elements:\", item)\n"
   ]
  },
  {
   "cell_type": "code",
   "execution_count": null,
   "id": "5d9cf115-2a11-4c63-ae31-0ad83b5e5f76",
   "metadata": {},
   "outputs": [],
   "source": []
  }
 ],
 "metadata": {
  "kernelspec": {
   "display_name": "Python [conda env:base] *",
   "language": "python",
   "name": "conda-base-py"
  },
  "language_info": {
   "codemirror_mode": {
    "name": "ipython",
    "version": 3
   },
   "file_extension": ".py",
   "mimetype": "text/x-python",
   "name": "python",
   "nbconvert_exporter": "python",
   "pygments_lexer": "ipython3",
   "version": "3.13.5"
  }
 },
 "nbformat": 4,
 "nbformat_minor": 5
}
