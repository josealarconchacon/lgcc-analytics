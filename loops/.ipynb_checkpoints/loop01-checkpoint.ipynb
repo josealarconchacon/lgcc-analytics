{
 "cells": [
  {
   "cell_type": "code",
   "execution_count": 14,
   "id": "d412f230-1a0a-4de0-93cb-9118660e9cf1",
   "metadata": {},
   "outputs": [
    {
     "name": "stdout",
     "output_type": "stream",
     "text": [
      "The Shawshank Redemption\n",
      "Inception\n",
      "The Godfather\n",
      "Parasite\n",
      "The Dark Knight\n",
      "['The Shawshank Redemption', 'Inception', 'The Godfather', 'Parasite', 'The Dark Knight']\n"
     ]
    }
   ],
   "source": [
    "movies = [\n",
    "    \"the shawshank redemption\",\n",
    "    \"inception\",\n",
    "    \"the godfather\",\n",
    "    \"parasite\",\n",
    "    \"the dark knight\"\n",
    "]\n",
    "\n",
    "for i, movie in enumerate(movies):\n",
    "    movies[i] = movie.title()\n",
    "    print(movies[i])\n",
    "\n",
    "print(movies)"
   ]
  },
  {
   "cell_type": "code",
   "execution_count": null,
   "id": "da9c9d7e-a84f-4e49-8870-87bd78021156",
   "metadata": {},
   "outputs": [],
   "source": []
  }
 ],
 "metadata": {
  "kernelspec": {
   "display_name": "Python [conda env:base] *",
   "language": "python",
   "name": "conda-base-py"
  },
  "language_info": {
   "codemirror_mode": {
    "name": "ipython",
    "version": 3
   },
   "file_extension": ".py",
   "mimetype": "text/x-python",
   "name": "python",
   "nbconvert_exporter": "python",
   "pygments_lexer": "ipython3",
   "version": "3.13.5"
  }
 },
 "nbformat": 4,
 "nbformat_minor": 5
}
