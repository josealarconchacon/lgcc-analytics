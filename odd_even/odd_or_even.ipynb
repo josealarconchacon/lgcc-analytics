{
 "cells": [
  {
   "cell_type": "code",
   "execution_count": 9,
   "id": "47b52900-52df-485c-8876-a999ae9cd6c8",
   "metadata": {},
   "outputs": [
    {
     "name": "stdin",
     "output_type": "stream",
     "text": [
      "Please enter a number:  2\n"
     ]
    },
    {
     "name": "stdout",
     "output_type": "stream",
     "text": [
      "The number 2 is even.\n"
     ]
    }
   ],
   "source": [
    "# checks if a number is odd, even, or a multiple of 4\n",
    "def odd_or_even(number):\n",
    "    # check multiple of 4\n",
    "    if number % 4 == 0:\n",
    "        print(f\"The number {number} is a multiple of 4\")\n",
    "    # check if even (but not a multiple of 4)\n",
    "    elif number % 2 == 0:\n",
    "        print(\"The number\", number, \"is even.\")\n",
    "    # number is odd\n",
    "    else:\n",
    "        print(\"The number\", number, \"is odd.\")\n",
    "\n",
    "# get user input\n",
    "num = int(input(\"Please enter a number: \"))\n",
    "# call function\n",
    "odd_or_even(num)"
   ]
  },
  {
   "cell_type": "code",
   "execution_count": 12,
   "id": "d1d89291-2eb7-459b-a113-5471f747f819",
   "metadata": {},
   "outputs": [
    {
     "name": "stdin",
     "output_type": "stream",
     "text": [
      "Enter you first number to check:  8\n",
      "Enter your second number to divide by:  3\n"
     ]
    },
    {
     "name": "stdout",
     "output_type": "stream",
     "text": [
      "3 does not divide evenly into 8\n"
     ]
    }
   ],
   "source": [
    "# checks if check divides evenly into num\n",
    "def check_division(num, check):\n",
    "    if num % check == 0:\n",
    "        print(f\"{check} divides evenly into {num}\")\n",
    "    else:\n",
    "        print(f\"{check} does not divide evenly into {num}\")\n",
    "\n",
    "# get user input\n",
    "num_to_check = int(input(\"Enter you first number to check: \"))\n",
    "divisor = int(input(\"Enter your second number to divide by: \"))\n",
    "# call function\n",
    "check_division(num_to_check, divisor)"
   ]
  },
  {
   "cell_type": "code",
   "execution_count": null,
   "id": "11d0163d-0142-44b7-ad8b-314a6954e58d",
   "metadata": {},
   "outputs": [],
   "source": []
  }
 ],
 "metadata": {
  "kernelspec": {
   "display_name": "Python [conda env:base] *",
   "language": "python",
   "name": "conda-base-py"
  },
  "language_info": {
   "codemirror_mode": {
    "name": "ipython",
    "version": 3
   },
   "file_extension": ".py",
   "mimetype": "text/x-python",
   "name": "python",
   "nbconvert_exporter": "python",
   "pygments_lexer": "ipython3",
   "version": "3.13.5"
  }
 },
 "nbformat": 4,
 "nbformat_minor": 5
}
